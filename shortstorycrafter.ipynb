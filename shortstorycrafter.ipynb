{
  "nbformat": 4,
  "nbformat_minor": 0,
  "metadata": {
    "colab": {
      "provenance": []
    },
    "kernelspec": {
      "name": "python3",
      "display_name": "Python 3"
    },
    "language_info": {
      "name": "python"
    }
  },
  "cells": [
    {
      "cell_type": "markdown",
      "source": [
        "StoryCrafter is a fun and educational Generative AI tool designed especially for kids. It lets users input a theme (e.g., adventure, kindness), a character (e.g., unicorn, robot), and a location (e.g., forest, space), and then uses a pre-trained GPT-2 model from Hugging Face to generate a unique and engaging short story.\n",
        "\n",
        "The application is built using:\n",
        "\n",
        "Transformers library (for GPT-2 story generation)\n",
        "\n",
        "Gradio (for a simple and interactive web UI)\n",
        "\n",
        "Google Colab  (for backend development and deployment)\n",
        "\n",
        "This project aims to promote creativity and imagination among children while showcasing the power of natural language generation."
      ],
      "metadata": {
        "id": "v0-wll_xDHx1"
      }
    },
    {
      "cell_type": "markdown",
      "source": [
        "**STEP 1: Install Required Libraries**"
      ],
      "metadata": {
        "id": "wZPuNlOMDgWE"
      }
    },
    {
      "cell_type": "code",
      "execution_count": null,
      "metadata": {
        "id": "YT6z3Dom3UIU"
      },
      "outputs": [],
      "source": [
        "!pip install transformers gradio torch --quiet\n"
      ]
    },
    {
      "cell_type": "markdown",
      "source": [
        "**STEP 2: Import Libraries and Load GPT-2**"
      ],
      "metadata": {
        "id": "qbU-adtVC-K4"
      }
    },
    {
      "cell_type": "code",
      "source": [
        "from transformers import pipeline,set_seed\n",
        "#load Gpt 2 story generation pipeline\n",
        "\n",
        "story_generator=pipeline('text-generation',model='gpt2')\n",
        "set_seed(42) #reducible results"
      ],
      "metadata": {
        "colab": {
          "base_uri": "https://localhost:8080/"
        },
        "id": "Rgtc4whr4o1N",
        "outputId": "75297df2-79c3-4155-823f-e79d794e384a"
      },
      "execution_count": null,
      "outputs": [
        {
          "output_type": "stream",
          "name": "stderr",
          "text": [
            "Device set to use cpu\n"
          ]
        }
      ]
    },
    {
      "cell_type": "markdown",
      "source": [
        "**STEP 3: Define the Story Generation Function**"
      ],
      "metadata": {
        "id": "Bhpc-75oDwSd"
      }
    },
    {
      "cell_type": "markdown",
      "source": [
        "This function takes user inputs (theme, character, location) and builds a creative story prompt for GPT-2 to expand."
      ],
      "metadata": {
        "id": "i6D7r7A9D43F"
      }
    },
    {
      "cell_type": "code",
      "source": [
        "def generate_story(theme,character,location):\n",
        "  prompt=f\"Once upon a time in {location}, there lived a {character} whot loved{theme}. One day,\"\n",
        "  story=story_generator(prompt,max_length=2000,num_return_sequences=1)[0]['generated_text']\n",
        "  return story"
      ],
      "metadata": {
        "id": "0srQZ_2Y5u6u"
      },
      "execution_count": null,
      "outputs": []
    },
    {
      "cell_type": "code",
      "source": [],
      "metadata": {
        "id": "6bkVlJIjEYwv"
      },
      "execution_count": null,
      "outputs": []
    },
    {
      "cell_type": "markdown",
      "source": [
        "**STEP 4: Build the Web Interface with Gradio**"
      ],
      "metadata": {
        "id": "OTOmiJ3SD-EP"
      }
    },
    {
      "cell_type": "markdown",
      "source": [
        "use gradio to create a simple web UI for users (especially kids) to generate stories:"
      ],
      "metadata": {
        "id": "xtHXkEsKEMC3"
      }
    },
    {
      "cell_type": "markdown",
      "source": [
        "**STEP 5: Launch the App**\n",
        "\n",
        "This step will launch the app in Colab and give you a shareable link:\n",
        "After running, you will get a public URL → click it and test your app live!"
      ],
      "metadata": {
        "id": "bHOUu-WjEXl2"
      }
    },
    {
      "cell_type": "code",
      "source": [
        "import gradio as gr\n",
        "iface=gr.Interface(\n",
        "    fn=generate_story,\n",
        "    inputs=[\n",
        "        gr.Textbox(label=\"Theme (e.g: Adventure,Kindness,magic)\"),\n",
        "        gr.Textbox(label=\"Character(e.g:unicorn,roboticd,fairy)\"),\n",
        "        gr.Textbox(label=\"Location(e.g. enchanted,outer space)\")\n",
        "    ],\n",
        "    outputs='text',\n",
        "    title='Story Generator',\n",
        "    description='Enter a theme,character,and location to generate a story'\n",
        ")\n",
        "iface.launch(share=True)"
      ],
      "metadata": {
        "colab": {
          "base_uri": "https://localhost:8080/",
          "height": 613
        },
        "id": "8DTiZktn6U8s",
        "outputId": "08f8e008-b5cb-4228-cfb1-7f1c3957a4b4"
      },
      "execution_count": null,
      "outputs": [
        {
          "output_type": "stream",
          "name": "stdout",
          "text": [
            "Colab notebook detected. To show errors in colab notebook, set debug=True in launch()\n",
            "* Running on public URL: https://a9f7a63b48537209e2.gradio.live\n",
            "\n",
            "This share link expires in 1 week. For free permanent hosting and GPU upgrades, run `gradio deploy` from the terminal in the working directory to deploy to Hugging Face Spaces (https://huggingface.co/spaces)\n"
          ]
        },
        {
          "output_type": "display_data",
          "data": {
            "text/plain": [
              "<IPython.core.display.HTML object>"
            ],
            "text/html": [
              "<div><iframe src=\"https://a9f7a63b48537209e2.gradio.live\" width=\"100%\" height=\"500\" allow=\"autoplay; camera; microphone; clipboard-read; clipboard-write;\" frameborder=\"0\" allowfullscreen></iframe></div>"
            ]
          },
          "metadata": {}
        },
        {
          "output_type": "execute_result",
          "data": {
            "text/plain": []
          },
          "metadata": {},
          "execution_count": 16
        }
      ]
    }
  ]
}